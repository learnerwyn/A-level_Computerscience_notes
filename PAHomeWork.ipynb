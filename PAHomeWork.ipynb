{
 "cells": [
  {
   "cell_type": "code",
   "execution_count": null,
   "id": "42bc15e5-e360-41b9-9fda-3518bd409532",
   "metadata": {},
   "outputs": [],
   "source": [
    "#sample\n",
    "class Car: \n",
    "    def __init__(self,n,e): #this is a constructor\n",
    "        self.__VehicleID=n #two underscore characters before an attribute name signify it is private\n",
    "        self.__Registration=\"\"\n",
    "        self.__DateOfRegistration=None\n",
    "        self.__EngineSize=e\n",
    "        self.__PurchasePrice=0.00\n",
    "\n",
    "    def SetPurchasePrice(self,p):\n",
    "        self.__PurchasePrice=p\n",
    "    def SetRegistration(self,r):\n",
    "        self.__Registration=r\n",
    "    def SetDateOfRegistration(self,d):\n",
    "        self.__DateOfRegistration=d\n",
    "\n",
    "    def GetVehicleID(self):\n",
    "        return(self.__VehicleID)\n",
    "    def GetRegistration(self):\n",
    "        return(self.__Registration)\n",
    "    def GetEngineSize(self):\n",
    "        return(self.__EngineSize)\n",
    "    def GetPurchasePrice(self):\n",
    "        return(self.__PurchasePrice)"
   ]
  },
  {
   "cell_type": "code",
   "execution_count": null,
   "id": "a392f8b8-8b82-4970-aee0-40100674d073",
   "metadata": {},
   "outputs": [],
   "source": [
    "def LeftToInt(ThisString,n):\n",
    "    if len(ThisString)<n:\n",
    "        return \"error\"\n",
    "    else:\n",
    "        for i in range (len(ThisString)):\n",
    "            if  48<=ord(ThisString[i])<=57:\n",
    "                Digit=True\n",
    "            else:\n",
    "                Digit=False\n",
    "        if Digit==False:\n",
    "            return \"error\"\n",
    "        else:\n",
    "            output=int(ThisString[:n])\n",
    "            return output"
   ]
  },
  {
   "cell_type": "code",
   "execution_count": null,
   "id": "27cd9b0a-26d9-410c-ac03-0afecf14c9cc",
   "metadata": {},
   "outputs": [],
   "source": [
    "def Hash(ISBN):\n",
    "    Address=LeftToInt(ISBN,3)\n",
    "    return Address"
   ]
  },
  {
   "cell_type": "code",
   "execution_count": null,
   "id": "d91726a5-6cb3-4782-b232-b0a397219fb4",
   "metadata": {},
   "outputs": [],
   "source": []
  }
 ],
 "metadata": {
  "kernelspec": {
   "display_name": "Python 3 (ipykernel)",
   "language": "python",
   "name": "python3"
  },
  "language_info": {
   "codemirror_mode": {
    "name": "ipython",
    "version": 3
   },
   "file_extension": ".py",
   "mimetype": "text/x-python",
   "name": "python",
   "nbconvert_exporter": "python",
   "pygments_lexer": "ipython3",
   "version": "3.10.7"
  }
 },
 "nbformat": 4,
 "nbformat_minor": 5
}
