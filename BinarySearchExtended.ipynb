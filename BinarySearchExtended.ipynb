{
 "cells": [
  {
   "cell_type": "markdown",
   "id": "a8368986-df3d-41df-808a-c7408f93a1eb",
   "metadata": {},
   "source": [
    "Iterative version of binary search"
   ]
  },
  {
   "cell_type": "code",
   "execution_count": 1,
   "id": "83ff88df-994c-43e0-9760-c23f382526a6",
   "metadata": {},
   "outputs": [],
   "source": [
    "myList=[8,10,12,17,21,24,39]"
   ]
  },
  {
   "cell_type": "code",
   "execution_count": 2,
   "id": "f83dac04-04de-4c67-b24d-4d6b4e8231d3",
   "metadata": {},
   "outputs": [],
   "source": [
    "def IterativeBinarySearch(List,Target):\n",
    "    First=0\n",
    "    Last=len(List)-1\n",
    "    Found=False\n",
    "    SearchFailed=False\n",
    "    counter=0 #show the trails the program made to find the target\n",
    "    while Found==False and SearchFailed==False:\n",
    "        Middle=(First+Last)//2\n",
    "        counter+=1\n",
    "        if List[Middle]==Target:\n",
    "            Found=True\n",
    "        else:\n",
    "            if First>=Last:\n",
    "                SearchFailed=True\n",
    "            else:\n",
    "                if List[Middle]>Target:\n",
    "                    Last=Middle-1\n",
    "                else:\n",
    "                    First=Middle+1\n",
    "    if Found==True:\n",
    "        print(\"index found at:\",Middle)\n",
    "    else:\n",
    "        print(\"index not found\")\n",
    "    print(\"sorted for\",counter,\"times\")"
   ]
  },
  {
   "cell_type": "code",
   "execution_count": 4,
   "id": "cdb0354f-f9ed-4dfa-a358-4a54a4e852dd",
   "metadata": {},
   "outputs": [
    {
     "name": "stdout",
     "output_type": "stream",
     "text": [
      "index found at: 6\n",
      "sorted for 3 times\n"
     ]
    }
   ],
   "source": [
    "IterativeBinarySearch(myList,39)"
   ]
  },
  {
   "cell_type": "markdown",
   "id": "9743fbac-6bb8-46ba-9ca7-620858950ea1",
   "metadata": {},
   "source": [
    "Recursive version of binary search"
   ]
  },
  {
   "cell_type": "code",
   "execution_count": 5,
   "id": "a6c1c071-4e09-4797-af84-0c5a13c5cdb4",
   "metadata": {},
   "outputs": [],
   "source": [
    "def RecursiveBinarySearch(List,Target,First,Last):\n",
    "    Middle=(First+Last)//2\n",
    "    if First>Last:\n",
    "        print(\"not exist\")\n",
    "    else:\n",
    "        if List[Middle]==Target:\n",
    "            print(\"index found at:\",Middle)\n",
    "        elif List[Middle]>Target:\n",
    "            Last=Middle-1\n",
    "            RecursiveBinarySearch(List,Target,First,Last)\n",
    "        elif List[Middle]<Target:\n",
    "            First=Middle+1\n",
    "            RecursiveBinarySearch(List,Target,First,Last)"
   ]
  },
  {
   "cell_type": "code",
   "execution_count": 7,
   "id": "7be288a2-781f-4fc7-891e-be4c1d6bc07a",
   "metadata": {},
   "outputs": [
    {
     "name": "stdout",
     "output_type": "stream",
     "text": [
      "index not found\n"
     ]
    }
   ],
   "source": [
    "RecursiveBinarySearch(myList,178,0,(len(myList)-1))"
   ]
  },
  {
   "cell_type": "code",
   "execution_count": null,
   "id": "3b83ca5f-d4f5-42e6-bd40-ef443bab70bc",
   "metadata": {},
   "outputs": [],
   "source": []
  }
 ],
 "metadata": {
  "kernelspec": {
   "display_name": "Python 3 (ipykernel)",
   "language": "python",
   "name": "python3"
  },
  "language_info": {
   "codemirror_mode": {
    "name": "ipython",
    "version": 3
   },
   "file_extension": ".py",
   "mimetype": "text/x-python",
   "name": "python",
   "nbconvert_exporter": "python",
   "pygments_lexer": "ipython3",
   "version": "3.10.7"
  }
 },
 "nbformat": 4,
 "nbformat_minor": 5
}
