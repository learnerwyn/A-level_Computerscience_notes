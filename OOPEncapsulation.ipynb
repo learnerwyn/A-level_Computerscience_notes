{
 "cells": [
  {
   "cell_type": "raw",
   "id": "8a4144cf-099c-4b00-98a6-a837bf03085e",
   "metadata": {},
   "source": [
    "Object Oriented Programming"
   ]
  },
  {
   "cell_type": "raw",
   "id": "8afa5ae6-c951-4d5a-8da7-5b0c11ebdb52",
   "metadata": {},
   "source": [
    "1.Classes in OOP\n",
    "    class: a type that combines a data structure with the methods that operate on the data structure\n",
    "    object: an instance of class\n",
    "    attributes/fields: the data items of the class\n",
    "    methods: the subroutines of a class\n",
    "    encapsulation: combining data and subroutines into a class and restricting the external access to the data\n",
    "\n",
    "2.Methods in OOP\n",
    "    getter: a method to access its associated attributes\n",
    "    setter: a method to set the value of its associated attribute\n",
    "    constructor: a method to creat a new object and initialise its attributes\n",
    "    property: a class member that includes the attribute and also getter and setter method calls to access/set the attribute value"
   ]
  },
  {
   "cell_type": "code",
   "execution_count": 5,
   "id": "16e98f78-4d25-4b7c-846c-f9f54d4029c6",
   "metadata": {},
   "outputs": [],
   "source": [
    "class Car: \n",
    "    def __init__(self,n,e): #this is a constructor\n",
    "        self.__VehicleID=n #two underscore characters before an attribute name signify it is private\n",
    "        self.__Registration=\"\"\n",
    "        self.__DateOfRegistration=None\n",
    "        self.__EngineSize=e\n",
    "        self.__PurchasePrice=0.00\n",
    "\n",
    "    def SetPurchasePrice(self,p):\n",
    "        self.__PurchasePrice=p\n",
    "    def SetRegistration(self,r):\n",
    "        self.__Registration=r\n",
    "    def SetDateOfRegistration(self,d):\n",
    "        self.__DateOfRegistration=d\n",
    "\n",
    "    def GetVehicleID(self):\n",
    "        return(self.__VehicleID)\n",
    "    def GetRegistration(self):\n",
    "        return(self.__Registration)\n",
    "    def GetEngineSize(self):\n",
    "        return(self.__EngineSize)\n",
    "    def GetPurchasePrice(self):\n",
    "        return(self.__PurchasePrice)\n",
    "    "
   ]
  },
  {
   "cell_type": "code",
   "execution_count": 16,
   "id": "6141e69d",
   "metadata": {},
   "outputs": [
    {
     "name": "stdout",
     "output_type": "stream",
     "text": [
      "ABC1234\n",
      "12000\n"
     ]
    }
   ],
   "source": [
    "#instantiating a class   \n",
    "ThisCar=Car(\"ABC1234\",2500)\n",
    "print(ThisCar.GetVehicleID())\n",
    "\n",
    "#using a method\n",
    "ThisCar.SetPurchasePrice(12000)\n",
    "print(ThisCar.GetPurchasePrice())"
   ]
  },
  {
   "cell_type": "raw",
   "id": "33b6933d-8015-4e12-b011-5b2c339c0f81",
   "metadata": {},
   "source": [
    "Alternative: Using properties"
   ]
  },
  {
   "cell_type": "code",
   "execution_count": 18,
   "id": "8beb6398-126a-4e23-bdac-64fa09886d2b",
   "metadata": {},
   "outputs": [],
   "source": [
    "class Car:\n",
    "    def __init__(self,n,e): \n",
    "        self.__VehicleID=n \n",
    "        self.__Registration=\"\"\n",
    "        self.__DateOfRegistration=None\n",
    "        self.__EngineSize=e\n",
    "        self.__PurchasePrice=0.00\n",
    "\n",
    "    @property\n",
    "    def VehicleID(self):\n",
    "        return(self.__VehicleID)\n",
    "\n",
    "    @property\n",
    "    def EngineSize(self):\n",
    "        return(self.__EngineSize)\n",
    "\n",
    "    @property\n",
    "    def Registration(self):\n",
    "        return(self.__Registration)\n",
    "\n",
    "    @Registration.setter\n",
    "    def Registration(self,r):\n",
    "        self.__Registration=r\n",
    "\n",
    "    @property\n",
    "    def DateOfRegistration(self):\n",
    "        return(self.__DateOfRegistration)\n",
    "\n",
    "    @DateOfRegistration.setter\n",
    "    def DateOfRegistration(self,d):\n",
    "        self.__DateOfRegistration=d\n",
    "\n",
    "    @property\n",
    "    def PurchasePrice(self):\n",
    "        return(self.__PurchasePrice)\n",
    "\n",
    "    @PurchasePrice.setter\n",
    "    def PurchasePrice(self,p):\n",
    "        self.__PurchasePrice=p"
   ]
  },
  {
   "cell_type": "code",
   "execution_count": 19,
   "id": "ac79d308-10a4-4d8f-aa87-ad17e4842d13",
   "metadata": {},
   "outputs": [
    {
     "name": "stdout",
     "output_type": "stream",
     "text": [
      "ABC1234\n",
      "12000\n"
     ]
    }
   ],
   "source": [
    "#instantiating a class\n",
    "ThisCar=Car(\"ABC1234\",2500)\n",
    "print(ThisCar.VehicleID)\n",
    "ThisCar.PurchasePrice=12000  \n",
    "print(ThisCar.PurchasePrice) "
   ]
  }
 ],
 "metadata": {
  "kernelspec": {
   "display_name": "Python 3 (ipykernel)",
   "language": "python",
   "name": "python3"
  },
  "language_info": {
   "codemirror_mode": {
    "name": "ipython",
    "version": 3
   },
   "file_extension": ".py",
   "mimetype": "text/x-python",
   "name": "python",
   "nbconvert_exporter": "python",
   "pygments_lexer": "ipython3",
   "version": "3.10.7"
  }
 },
 "nbformat": 4,
 "nbformat_minor": 5
}
