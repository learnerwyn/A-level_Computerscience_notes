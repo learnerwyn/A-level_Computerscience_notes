{
 "cells": [
  {
   "cell_type": "markdown",
   "id": "8f798b99",
   "metadata": {},
   "source": [
    "Inheritance: all attributes and methods of the base class are copied to the subclass"
   ]
  },
  {
   "cell_type": "code",
   "execution_count": 1,
   "id": "09235c06",
   "metadata": {},
   "outputs": [],
   "source": [
    "import datetime\n",
    "\n",
    "class LibraryItem: # LibraryItem() is an abstract class. Abstract class is a base class that is never used to create object directly \n",
    "    def __init__(self,t,a,i): #initialiser method\n",
    "        self.__Title=t\n",
    "        self.__Author__Artist=a\n",
    "        self.__ItemID=i\n",
    "        self.__OnLoan=False\n",
    "        self.__DueDate=datetime.date.today()\n",
    "        \n",
    "    #methods in the base class\n",
    "    def GetTitle(self):\n",
    "        return(self.__Title)\n",
    "    def Borrowing(self):\n",
    "        self.__OnLoan=True\n",
    "        self.__DueDate=self.__DueDate + datetime.timedelta(weeks=-3)\n",
    "    def Returning(self):\n",
    "        self.__OnLoan = False\n",
    "    def PrintDetails(self):\n",
    "        print(self.__Title,',',self.__Author__Artist,',')\n",
    "        print(self.__ItemID,',',self.__OnLoan,',',self.__DueDate)\n",
    "\n",
    "#subclasses\n",
    "\n",
    "class Book(LibraryItem): #a subclass definition\n",
    "    def __init__(self,t,a,i): #initialiser method\n",
    "        LibraryItem.__init__(self,t,a,i) #this statement calls the constructor for the base class\n",
    "        self.__IsRequested=False\n",
    "        self.__RequestedBy=0\n",
    "    def GetIsRequested(self):\n",
    "        return(self.__IsRequested)\n",
    "    def SetIsRequested(self,b):\n",
    "        self.__IsRequested=b\n",
    "        \n",
    "class CD(LibraryItem):\n",
    "    def __init__(self,t,a,i):\n",
    "        LibraryItem.__init__(self,t,a,i)\n",
    "        self.__Genre=\"\"\n",
    "    def GetGenre(self):\n",
    "        return(self.__Genre)\n",
    "    def SetGenre(self,g):\n",
    "        self.__Genre=g\n",
    "    "
   ]
  },
  {
   "cell_type": "markdown",
   "id": "8eeadcef",
   "metadata": {},
   "source": [
    "Alternative: using properties"
   ]
  },
  {
   "cell_type": "code",
   "execution_count": null,
   "id": "dd747b41",
   "metadata": {},
   "outputs": [],
   "source": [
    "import datetime\n",
    "\n",
    "class LibraryItem:\n",
    "    self __init__(self,t,a,i): #constructor / initialiser method\n",
    "        self.__Title=t\n",
    "        self.__Author__Artist=a\n",
    "        self.__ItemID=i\n",
    "        self.__OnLoan=False\n",
    "        self.__DueDate=datetime.date.today()\n",
    "    \n",
    "    #getters\n",
    "    @property\n",
    "    def Title(self):\n",
    "        return (self.__Title)\n",
    "    @property\n",
    "    def Borrowing(self):\n",
    "        self.__OnLoan=True\n",
    "        self.__DueDate=self.__DueDate+datetime.timedate(weeks=3)\n",
    "    @property\n",
    "    def returning(self):\n",
    "        self.__OnLoan=False\n",
    "    @property\n",
    "    def PrintDetails(self):\n",
    "        print(self.__Title,',',self.__Author__Artist,',')\n",
    "        print(self.__ItemID,',',self.__OnLoan,',',self.__DueDate)\n",
    "        \n",
    "#subclasses\n",
    "\n",
    "class Book(LibraryItem):\n",
    "    def __init__(self,t,a,i): #initialiser method\n",
    "        LibraryItem.__init__(self,t,a,i) #this statement calls the constructor for the base class\n",
    "        self.__IsRequested=False\n",
    "        self.__RequestedBy=0\n",
    "    @property\n",
    "    def IsRequested(self):\n",
    "        return(self.__IsRequested)\n",
    "    @IsRequested.setter\n",
    "    def IsRequested(self,b):\n",
    "        self.__IsRequested=b\n",
    "    #print details method for books\n",
    "    def PrintDetails(self):\n",
    "        print(\"Book Details\")\n",
    "        LibraryItem.PrintDetails(self) #this statement calls the base class method with the same name\n",
    "        #Polymorphism: the methods behaves differently for different classes in the hierarchy\n",
    "        print(self.__IsRequested)\n",
    "        \n",
    "class CD(LibraryItem):\n",
    "    def __init__(self,t,a,i):\n",
    "        LibraryItem.__init__(self,t,a,i)\n",
    "        self.__Genre=\"\"\n",
    "    @property\n",
    "    def Genre(self):\n",
    "        return(self.__Genre)\n",
    "    @Genre.setter\n",
    "    def Genre(self,g):\n",
    "        self.__Genre=g"
   ]
  },
  {
   "cell_type": "code",
   "execution_count": 2,
   "id": "f83e33e9",
   "metadata": {},
   "outputs": [],
   "source": [
    "#for instantiating a subclass\n",
    "#ThisBook=Book(Title,Author,ItemID)\n",
    "#ThisCD=CD(Title,Artist,ItemID)"
   ]
  },
  {
   "cell_type": "code",
   "execution_count": null,
   "id": "e8cebda6",
   "metadata": {},
   "outputs": [],
   "source": [
    "#for using a method\n",
    "#using an object created from a subclass is exactly the same as an object created from any class"
   ]
  },
  {
   "cell_type": "code",
   "execution_count": 2,
   "id": "aa72fe42-e51c-47d7-add0-096cd97fd447",
   "metadata": {},
   "outputs": [],
   "source": [
    "Ye=LibraryItem(\"title\",\"wangyuning\",123)"
   ]
  },
  {
   "cell_type": "code",
   "execution_count": 4,
   "id": "8b522625-d02d-461d-9280-a9a421a00922",
   "metadata": {},
   "outputs": [
    {
     "name": "stdout",
     "output_type": "stream",
     "text": [
      "title , wangyuning ,\n",
      "123 , False , 2024-05-19\n"
     ]
    }
   ],
   "source": [
    "Ye.PrintDetails()"
   ]
  },
  {
   "cell_type": "code",
   "execution_count": 5,
   "id": "69a819f4-c71c-4a5b-afcc-42a4cb718e25",
   "metadata": {},
   "outputs": [],
   "source": [
    "Yes=Book(\"cs\",\"lu\",1234)"
   ]
  },
  {
   "cell_type": "code",
   "execution_count": 7,
   "id": "40e4d8d4-af69-449d-b0c2-ed4a5e1f88c2",
   "metadata": {},
   "outputs": [],
   "source": [
    "Yes.Borrowing()"
   ]
  },
  {
   "cell_type": "code",
   "execution_count": null,
   "id": "985b1c62-1eca-4572-aba7-4338b0c439c3",
   "metadata": {},
   "outputs": [],
   "source": [
    "Yes.PrintDetails()"
   ]
  }
 ],
 "metadata": {
  "kernelspec": {
   "display_name": "Python 3 (ipykernel)",
   "language": "python",
   "name": "python3"
  },
  "language_info": {
   "codemirror_mode": {
    "name": "ipython",
    "version": 3
   },
   "file_extension": ".py",
   "mimetype": "text/x-python",
   "name": "python",
   "nbconvert_exporter": "python",
   "pygments_lexer": "ipython3",
   "version": "3.10.7"
  }
 },
 "nbformat": 4,
 "nbformat_minor": 5
}
