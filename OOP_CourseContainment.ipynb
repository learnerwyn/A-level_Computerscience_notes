{
 "cells": [
  {
   "cell_type": "code",
   "execution_count": 3,
   "id": "f85f2778",
   "metadata": {},
   "outputs": [],
   "source": [
    "class Lesson:\n",
    "    def __init__(self):\n",
    "        self.__LessonTitle=\"\"\n",
    "        self.__DurationMinutes=0\n",
    "        self.__RequiresLab=True\n",
    "    def OutputLessonDetails(self):\n",
    "        print(\"Lesson\",self.__LessonTitle,self.__DurationMinutes,\"mins\",self.__RequiresLab)\n",
    "    "
   ]
  },
  {
   "cell_type": "code",
   "execution_count": 4,
   "id": "efb05a40",
   "metadata": {},
   "outputs": [],
   "source": [
    "class Assessment:\n",
    "    def __init__(self):\n",
    "        self.__AssessmentTitle=\"\"\n",
    "        self.__MaxMark=0\n",
    "    def OutputAssessmentDetails(self):\n",
    "        print(\"Assessment\",self.__AssessmentTitle,self.__MaxMark)"
   ]
  },
  {
   "cell_type": "code",
   "execution_count": 6,
   "id": "b8eeb260",
   "metadata": {},
   "outputs": [],
   "source": [
    "class Course:\n",
    "    def __init__(self):\n",
    "        self.__CourseTitle=\"\"\n",
    "        self.__MaxStudents=0\n",
    "        self.__NumberOfLessons=0\n",
    "        self.__CourseLesson=[Lessons for i in range(50)]\n",
    "        self.__CourseAssessment=Assessment\n",
    "    def AddLesson(self):\n",
    "        if self.__NumberOfLessons==50:\n",
    "            print(\"max lessons\")\n",
    "        else:\n",
    "            self.__CourseLesson[self.__NumberOfLessons]=Lesson\n",
    "            self.__NumberOfLessons+=1"
   ]
  },
  {
   "cell_type": "code",
   "execution_count": null,
   "id": "cbc491ad",
   "metadata": {},
   "outputs": [],
   "source": []
  }
 ],
 "metadata": {
  "kernelspec": {
   "display_name": "Python 3 (ipykernel)",
   "language": "python",
   "name": "python3"
  },
  "language_info": {
   "codemirror_mode": {
    "name": "ipython",
    "version": 3
   },
   "file_extension": ".py",
   "mimetype": "text/x-python",
   "name": "python",
   "nbconvert_exporter": "python",
   "pygments_lexer": "ipython3",
   "version": "3.10.7"
  }
 },
 "nbformat": 4,
 "nbformat_minor": 5
}
