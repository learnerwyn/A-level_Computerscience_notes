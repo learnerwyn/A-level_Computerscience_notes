{
 "cells": [
  {
   "cell_type": "markdown",
   "id": "23f4e2b5",
   "metadata": {},
   "source": [
    "Containment: a relationship in which one class has a component that is of another class type"
   ]
  },
  {
   "cell_type": "code",
   "execution_count": null,
   "id": "1120cd8d",
   "metadata": {},
   "outputs": [],
   "source": [
    "class Course:\n",
    "    def __init__(self,t,m):\n",
    "        self.__CourseTitle=t\n",
    "        self.__MaxStudents=m\n",
    "        self.__NumberOfLessons=0\n",
    "        self.__CourseLesson=[Lesson() for i in range (50)]\n",
    "        self.__CourseAssessment=Assessment()\n",
    "    def AddLesson(self,t,d,r):\n",
    "        self.__NumberOfLessons=self.__NumberOfLessons+1\n",
    "        self.__CourseLesson.append(t,d,r)\n",
    "    def AddAssessment(self,t,m):\n",
    "        self.__CourseAssessment=Assessment(t,m)\n",
    "    def OutputCourseDetails(self):\n",
    "        print(self.__CourseTitle,\"maximum number:\",self.__MaxStudents)\n",
    "        for i in range(self.__NumberOfLessons):\n",
    "            print(self.__CourseLesson[i].OutputLessonsDetails())\n",
    "            \n",
    "#in this example, the Course() class contains two other classes: Lesson() and Assessment() which has to be defined later\n",
    "#this is called \"containment\"\n",
    "\n",
    "class Lesson():\n",
    "    def __init__(self,t,m):\n",
    "        self.__LessonTitle=t\n",
    "        self.__DurationMinutes=m\n",
    "        self.__RequiresLab=False\n",
    "    def OutputLessonDetails(self):\n",
    "        print(\"lesson title:\",self.__LessonTitle)\n",
    "        print(\"duration minutes:\",self.__DurationMinutes)"
   ]
  }
 ],
 "metadata": {
  "kernelspec": {
   "display_name": "Python 3 (ipykernel)",
   "language": "python",
   "name": "python3"
  },
  "language_info": {
   "codemirror_mode": {
    "name": "ipython",
    "version": 3
   },
   "file_extension": ".py",
   "mimetype": "text/x-python",
   "name": "python",
   "nbconvert_exporter": "python",
   "pygments_lexer": "ipython3",
   "version": "3.10.7"
  }
 },
 "nbformat": 4,
 "nbformat_minor": 5
}
