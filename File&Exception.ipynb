{
 "cells": [
  {
   "cell_type": "code",
   "execution_count": 1,
   "id": "e7063c20-abb2-4ca5-b78d-0feb7ae603cc",
   "metadata": {},
   "outputs": [],
   "source": [
    "class CarRecord:\n",
    "    def __init__ (self):\n",
    "        self.__VehicleID=\"\"\n",
    "        self.__Registration=\"\"\n",
    "        self.__DateOfRegistration=None\n",
    "        self.__EngineSize=0\n",
    "        self.__PurchasePrice=0.00"
   ]
  },
  {
   "cell_type": "code",
   "execution_count": 2,
   "id": "3a25ead2-6a1e-4604-99a0-195f2e8772e1",
   "metadata": {},
   "outputs": [],
   "source": [
    "ThisCar=CarRecord()\n",
    "ThisCar.EngineSize=2500\n",
    "Car=[CarRecord() for i in range (10)]"
   ]
  },
  {
   "cell_type": "code",
   "execution_count": 3,
   "id": "15655280-a9a5-471c-b5e1-883a8d6cddfd",
   "metadata": {},
   "outputs": [],
   "source": [
    "#file processing\n",
    "import pickle\n",
    "CarFile=open(\"CarFile.DAT\",\"wb\")# open file for binary write\n",
    "for i in range (10):\n",
    "    pickle.dump(Car[i],CarFile)\n",
    "CarFile.close()"
   ]
  },
  {
   "cell_type": "code",
   "execution_count": 4,
   "id": "82e68ec7-4987-40fa-8dbe-c425312d3958",
   "metadata": {},
   "outputs": [
    {
     "ename": "EOFError",
     "evalue": "Ran out of input",
     "output_type": "error",
     "traceback": [
      "\u001b[1;31m---------------------------------------------------------------------------\u001b[0m",
      "\u001b[1;31mEOFError\u001b[0m                                  Traceback (most recent call last)",
      "Cell \u001b[1;32mIn [4], line 4\u001b[0m\n\u001b[0;32m      2\u001b[0m Car1\u001b[38;5;241m=\u001b[39m[]\n\u001b[0;32m      3\u001b[0m \u001b[38;5;28;01mwhile\u001b[39;00m \u001b[38;5;28;01mTrue\u001b[39;00m:\n\u001b[1;32m----> 4\u001b[0m     Car1\u001b[38;5;241m.\u001b[39mappend(\u001b[43mpickle\u001b[49m\u001b[38;5;241;43m.\u001b[39;49m\u001b[43mload\u001b[49m\u001b[43m(\u001b[49m\u001b[43mCarFile\u001b[49m\u001b[43m)\u001b[49m)\n\u001b[0;32m      5\u001b[0m CarFile\u001b[38;5;241m.\u001b[39mClose()\n",
      "\u001b[1;31mEOFError\u001b[0m: Ran out of input"
     ]
    }
   ],
   "source": [
    "CarFile=open(\"CarFile.DAT\",\"rb\")\n",
    "Car1=[]\n",
    "while True:\n",
    "    Car1.append(pickle.load(CarFile))\n",
    "CarFile.Close()\n",
    "    "
   ]
  },
  {
   "cell_type": "code",
   "execution_count": null,
   "id": "663a9961-0f54-4e3c-910b-f2d989115378",
   "metadata": {},
   "outputs": [],
   "source": [
    "#random access file\n",
    "CarFile=open('CarFile.DAT','rb+')\n",
    "Address=hash(ThisCar.VehicleID) #predefined hash function\n",
    "CarFile.seek(Address)\n",
    "pickle.dump(ThisCar,CarFile)\n",
    "CarFile.close()\n",
    "\n",
    "CarFile=open('CarFile.DAT','rb')\n",
    "Address=hash(VehicleID)\n",
    "CarFile.seek(Address)\n",
    "ThisCar=pickle.load(CarFile)\n",
    "CarFile.close()\n"
   ]
  },
  {
   "cell_type": "code",
   "execution_count": null,
   "id": "bf642d14-aa65-4f97-acc7-d03c68ae4f2a",
   "metadata": {},
   "outputs": [],
   "source": [
    "#exception handling\n",
    "NumberString=input(\"enter an integer:\")\n",
    "try:\n",
    "    n=int(NumberString)\n",
    "    print(n)\n",
    "except:\n",
    "    print(\"This was not an integer\")"
   ]
  }
 ],
 "metadata": {
  "kernelspec": {
   "display_name": "Python 3 (ipykernel)",
   "language": "python",
   "name": "python3"
  },
  "language_info": {
   "codemirror_mode": {
    "name": "ipython",
    "version": 3
   },
   "file_extension": ".py",
   "mimetype": "text/x-python",
   "name": "python",
   "nbconvert_exporter": "python",
   "pygments_lexer": "ipython3",
   "version": "3.10.7"
  }
 },
 "nbformat": 4,
 "nbformat_minor": 5
}
