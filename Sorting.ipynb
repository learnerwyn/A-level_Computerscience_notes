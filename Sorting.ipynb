{
 "cells": [
  {
   "cell_type": "code",
   "execution_count": 5,
   "id": "c867aac1-4f0c-4ff2-99cd-eba317604ed5",
   "metadata": {},
   "outputs": [],
   "source": [
    "myList=[3,1,4,5,2,6,10,7,8,9]"
   ]
  },
  {
   "cell_type": "code",
   "execution_count": 2,
   "id": "71f4e403-8b51-4fc4-8b69-7c7e6d6e780c",
   "metadata": {},
   "outputs": [],
   "source": [
    "def AscendingBubbleSort(List):\n",
    "    NoMoreSwaps=False\n",
    "    n=len(List)-1\n",
    "    print(\"ascending part is called\")\n",
    "    while NoMoreSwaps==False:\n",
    "        NoMoreSwaps=True\n",
    "        for i in range (0,n):\n",
    "            if List[i]>List[i+1]:\n",
    "                temp=List[i]\n",
    "                List[i]=List[i+1]\n",
    "                List[i+1]=temp\n",
    "                NoMoreSwaps=False\n",
    "        n=n-1\n",
    "    return List"
   ]
  },
  {
   "cell_type": "code",
   "execution_count": 3,
   "id": "3752b1a8-5f92-44bc-b9c3-679ad8e1bf14",
   "metadata": {},
   "outputs": [],
   "source": [
    "def DescendingBubbleSort(List):\n",
    "    print(\"descending part is called\")\n",
    "    n=len(List)-1\n",
    "    NoMoreSwaps=False\n",
    "    while NoMoreSwaps==False:\n",
    "        NoMoreSwaps=True\n",
    "        for i in range (0,n):\n",
    "            if List[i]<List[i+1]:\n",
    "                temp=List[i]\n",
    "                List[i]=List[i+1]\n",
    "                List[i+1]=temp\n",
    "                NoMoreSwaps=False\n",
    "        n=n-1\n",
    "    return List"
   ]
  },
  {
   "cell_type": "code",
   "execution_count": 4,
   "id": "e3bb3689-1572-4a70-a300-24528d31e158",
   "metadata": {},
   "outputs": [],
   "source": [
    "def BubbleSort(List,order):\n",
    "    if order==\"ascending\":\n",
    "        print(AscendingBubbleSort(List))\n",
    "    elif order==\"descending\":\n",
    "        print(DescendingBubbleSort(List))\n",
    "    else:\n",
    "        print(\"wrong order\")"
   ]
  },
  {
   "cell_type": "code",
   "execution_count": 5,
   "id": "77a80786-c329-4119-851d-7abc3761c6ee",
   "metadata": {},
   "outputs": [
    {
     "name": "stdout",
     "output_type": "stream",
     "text": [
      "descending part is called\n",
      "[10, 9, 8, 7, 6, 5, 4, 3, 2, 1]\n"
     ]
    }
   ],
   "source": [
    "BubbleSort(myList,'descending')"
   ]
  },
  {
   "cell_type": "code",
   "execution_count": 1,
   "id": "897da939-da52-4f14-ad5a-2667562b0101",
   "metadata": {},
   "outputs": [],
   "source": [
    "def AscendingInsertionSort(List):\n",
    "    for pointer in range (0,len(List)):\n",
    "        InsertItem=List[pointer]\n",
    "        current=pointer-1\n",
    "        while current>-1 and List[current]>InsertItem:\n",
    "            List[current+1]=List[current]\n",
    "            current-=1\n",
    "        List[current+1]=InsertItem\n",
    "    return List      "
   ]
  },
  {
   "cell_type": "code",
   "execution_count": 7,
   "id": "baeb3b59-7597-4d6a-8e29-2e49a02f7c10",
   "metadata": {},
   "outputs": [],
   "source": [
    "def DescendingInsertionSort(List):\n",
    "    for pointer in range (0,len(List)):\n",
    "        InsertItem=List[pointer]\n",
    "        current=pointer-1\n",
    "        while current>-1 and List[current]<InsertItem:\n",
    "            List[current+1]=List[current]\n",
    "            current-=1\n",
    "        List[current+1]=InsertItem\n",
    "    return List      "
   ]
  },
  {
   "cell_type": "code",
   "execution_count": 3,
   "id": "1ecf37d7-3748-4e30-b934-c454a5d2dcc4",
   "metadata": {},
   "outputs": [],
   "source": [
    "def InsertionSort(List,order):\n",
    "    if order==\"ascending\":\n",
    "        print(AscendingInsertionSort(List))\n",
    "    elif order==\"descending\":\n",
    "        print(DescendingInsertionSort(List))\n",
    "    else:\n",
    "        print(\"wrong order\")"
   ]
  },
  {
   "cell_type": "code",
   "execution_count": 6,
   "id": "3ff2c72a-a4cd-40d3-9760-267f4e680630",
   "metadata": {},
   "outputs": [
    {
     "name": "stdout",
     "output_type": "stream",
     "text": [
      "[1, 2, 3, 4, 5, 6, 7, 8, 9, 10]\n"
     ]
    }
   ],
   "source": [
    "InsertionSort(myList,'ascending')"
   ]
  },
  {
   "cell_type": "code",
   "execution_count": null,
   "id": "a1b409cf-a114-479f-a1dd-828da5b2fbc4",
   "metadata": {},
   "outputs": [],
   "source": []
  }
 ],
 "metadata": {
  "kernelspec": {
   "display_name": "Python 3 (ipykernel)",
   "language": "python",
   "name": "python3"
  },
  "language_info": {
   "codemirror_mode": {
    "name": "ipython",
    "version": 3
   },
   "file_extension": ".py",
   "mimetype": "text/x-python",
   "name": "python",
   "nbconvert_exporter": "python",
   "pygments_lexer": "ipython3",
   "version": "3.10.7"
  }
 },
 "nbformat": 4,
 "nbformat_minor": 5
}
