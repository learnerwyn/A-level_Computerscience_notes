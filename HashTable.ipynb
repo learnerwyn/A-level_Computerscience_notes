{
 "cells": [
  {
   "cell_type": "code",
   "execution_count": null,
   "id": "dc0726e0",
   "metadata": {},
   "outputs": [],
   "source": [
    "n=int(input(\"please input an integer:\"))\n",
    "HashTable=[\"\" for i in range(n+1)]"
   ]
  },
  {
   "cell_type": "code",
   "execution_count": null,
   "id": "970fb573",
   "metadata": {},
   "outputs": [],
   "source": [
    "def HashTable(Key):\n",
    "    Address=Key%(n+1)\n",
    "    return Address\n",
    "\n",
    "class Record:\n",
    "    def __init__(self):\n",
    "        self.Key=0\n",
    "        slef.Item=\"\""
   ]
  },
  {
   "cell_type": "code",
   "execution_count": null,
   "id": "b4442638",
   "metadata": {},
   "outputs": [],
   "source": [
    "def Insert(HashTable,NewRecord):\n",
    "    index=Hash(NewRecord.Key)\n",
    "    while HashTable[index].Item!=\"\":\n",
    "        index+=1\n",
    "        if Index>len(HashTable):d\n",
    "            index=0\n",
    "    HashTable[Index]=NewRecord"
   ]
  },
  {
   "cell_type": "code",
   "execution_count": null,
   "id": "c2a0433d",
   "metadata": {},
   "outputs": [],
   "source": [
    "def Find(HashTable,SearchKey):\n",
    "    Index=Hash(SearchKey)\n",
    "    while HashTa"
   ]
  }
 ],
 "metadata": {
  "kernelspec": {
   "display_name": "Python 3 (ipykernel)",
   "language": "python",
   "name": "python3"
  },
  "language_info": {
   "codemirror_mode": {
    "name": "ipython",
    "version": 3
   },
   "file_extension": ".py",
   "mimetype": "text/x-python",
   "name": "python",
   "nbconvert_exporter": "python",
   "pygments_lexer": "ipython3",
   "version": "3.10.7"
  }
 },
 "nbformat": 4,
 "nbformat_minor": 5
}
