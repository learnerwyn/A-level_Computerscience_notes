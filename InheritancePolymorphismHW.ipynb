{
 "cells": [
  {
   "cell_type": "code",
   "execution_count": null,
   "id": "1ebf7757-baf8-48da-aeb2-12e7ffdd7c16",
   "metadata": {},
   "outputs": [],
   "source": [
    "class LibraryItem: #abstract class: a base class that is never used to create object directly\n",
    "    def __init__(self, title, creator, location):\n",
    "        self.title = title\n",
    "        self.creator = creator\n",
    "        self.location = location\n",
    "\n",
    "    def display_info(self):\n",
    "        print(f\"Title: {self.title}\")\n",
    "        print(f\"Creator: {self.creator}\")\n",
    "        print(f\"Location: {self.location}\")\n",
    "\n",
    "class Book(LibraryItem):\n",
    "    def __init__(self, title, author, location, isbn):\n",
    "        super().__init__(title, author, location)\n",
    "        self.isbn = isbn\n",
    "\n",
    "    def display_info(self):\n",
    "        super().display_info()\n",
    "        print(f\"ISBN: {self.isbn}\")\n",
    "        print(\"Item Type: Book\")\n",
    "\n",
    "class CD(LibraryItem):\n",
    "    def __init__(self, title, artist, location, duration):\n",
    "        super().__init__(title, artist, location)\n",
    "        self.duration = duration\n",
    "\n",
    "    def display_info(self):\n",
    "        super().display_info()\n",
    "        print(f\"Duration: {self.duration} minutes\")\n",
    "        print(\"Item Type: CD\")\n",
    "\n",
    "#example\n",
    "book_item = Book(\"Alevel CS\", \"wanglu\", \"A\", \"B\")\n",
    "cd_item = CD(\"Alevel cs\", \"wanglu\", \"B\", 2)\n",
    "\n",
    "book_item.display_info()\n",
    "print(\"\\n\")\n",
    "cd_item.display_info()\n"
   ]
  }
 ],
 "metadata": {
  "kernelspec": {
   "display_name": "Python 3 (ipykernel)",
   "language": "python",
   "name": "python3"
  },
  "language_info": {
   "codemirror_mode": {
    "name": "ipython",
    "version": 3
   },
   "file_extension": ".py",
   "mimetype": "text/x-python",
   "name": "python",
   "nbconvert_exporter": "python",
   "pygments_lexer": "ipython3",
   "version": "3.10.7"
  }
 },
 "nbformat": 4,
 "nbformat_minor": 5
}
