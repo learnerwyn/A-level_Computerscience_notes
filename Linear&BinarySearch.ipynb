{
 "cells": [
  {
   "cell_type": "code",
   "execution_count": 2,
   "id": "822b6240-eb73-4927-9d14-2ef0726c5f7d",
   "metadata": {},
   "outputs": [],
   "source": [
    "myList=[10,5,6,7,1,12,13,15,21,8]"
   ]
  },
  {
   "cell_type": "code",
   "execution_count": 5,
   "id": "8c463368-876a-43d8-bb9c-897345e6158d",
   "metadata": {},
   "outputs": [],
   "source": [
    "def LinearSearch(List,Target):\n",
    "    counter=0 #show the trails the program made to find the target\n",
    "    for i in range (0,len(List)):\n",
    "        if List[i]==Target:\n",
    "            print(\"index found at:\",i)\n",
    "            Found=True\n",
    "            counter+=1\n",
    "            break\n",
    "        else:\n",
    "            Found=False\n",
    "            counter+=1\n",
    "    if Found==False:\n",
    "        print(\"-1\")\n",
    "    print(counter)"
   ]
  },
  {
   "cell_type": "code",
   "execution_count": null,
   "id": "7e6aeaca-82af-4c21-82b5-84a5cb358ef8",
   "metadata": {},
   "outputs": [],
   "source": [
    "def LinearSearch(List,Target):\n",
    "    counter=0\n",
    "    for i in range (0,len(List)):\n",
    "        if List[i]!=Target:\n",
    "            Found=False\n",
    "            counter+=1\n",
    "        else:\n",
    "            print(\"found at\",i)\n",
    "            Found=True\n",
    "            break\n",
    "    if Found==False:\n",
    "        print(\"no result\")\n",
    "    print(counter)"
   ]
  },
  {
   "cell_type": "code",
   "execution_count": 3,
   "id": "c6882a9a-f0c8-49dc-9f80-c54be6f6b1cd",
   "metadata": {},
   "outputs": [],
   "source": [
    "def BinarySearch(List,Target):\n",
    "    First=0\n",
    "    Last=len(List)-1\n",
    "    Found=False\n",
    "    SearchFailed=False\n",
    "    counter=0 #show the trails the program made to find the target\n",
    "    while Found==False and SearchFailed==False:\n",
    "        Middle=(First+Last)//2\n",
    "        counter+=1\n",
    "        if List[Middle]==Target:\n",
    "            Found=True\n",
    "        else:\n",
    "            if First>=Last:\n",
    "                SearchFailed=True\n",
    "            else:\n",
    "                if List[Middle]>Target:\n",
    "                    Last=Middle-1\n",
    "                else:\n",
    "                    First=Middle+1\n",
    "    if Found==True:\n",
    "        print(\"index found at:\",Middle)\n",
    "    else:\n",
    "        print(\"index not found\")\n",
    "    print(counter)"
   ]
  },
  {
   "cell_type": "code",
   "execution_count": 4,
   "id": "bdfedbc6-e801-4e39-aef5-7f4a8b71bd24",
   "metadata": {},
   "outputs": [],
   "source": [
    "myList2=[1,2,3,4,5,6,7,8,9,10]"
   ]
  },
  {
   "cell_type": "code",
   "execution_count": 5,
   "id": "a7f0686e-ab38-44dc-af75-2165aa91a87d",
   "metadata": {},
   "outputs": [
    {
     "name": "stdout",
     "output_type": "stream",
     "text": [
      "index not found\n",
      "4\n"
     ]
    }
   ],
   "source": [
    "BinarySearch(myList2,111)"
   ]
  },
  {
   "cell_type": "code",
   "execution_count": 2,
   "id": "036eff7c-3b1b-4f7d-b4c0-c9cbf1c0942c",
   "metadata": {},
   "outputs": [],
   "source": [
    "myList3=[1,2,3,4,5,6,7,8,9,10,11,12,13,14,15,16,17,18,19,20,21,22,23,24,25,26]"
   ]
  },
  {
   "cell_type": "code",
   "execution_count": 7,
   "id": "9a09a45c-9cd2-423e-aa5c-fb6da573c912",
   "metadata": {},
   "outputs": [
    {
     "name": "stdout",
     "output_type": "stream",
     "text": [
      "index found at: 1\n",
      "5\n"
     ]
    }
   ],
   "source": [
    "BinarySearch(myList3,2)"
   ]
  },
  {
   "cell_type": "code",
   "execution_count": 8,
   "id": "9d59999c-3161-4553-94a6-f63da8d23dc7",
   "metadata": {},
   "outputs": [
    {
     "name": "stdout",
     "output_type": "stream",
     "text": [
      "index found at: 22\n",
      "3\n"
     ]
    }
   ],
   "source": [
    "BinarySearch(myList3,23)"
   ]
  },
  {
   "cell_type": "code",
   "execution_count": 7,
   "id": "f5856c21-b965-4ec4-b798-e69a0efa4fa7",
   "metadata": {},
   "outputs": [
    {
     "name": "stdout",
     "output_type": "stream",
     "text": [
      "-1\n",
      "9\n"
     ]
    }
   ],
   "source": [
    "LinearSearch(myList,8)"
   ]
  },
  {
   "cell_type": "code",
   "execution_count": 8,
   "id": "2c07ee16-702c-4323-85f9-177b2cbd85cb",
   "metadata": {},
   "outputs": [],
   "source": [
    "myList4=myList3[4:]"
   ]
  },
  {
   "cell_type": "code",
   "execution_count": 9,
   "id": "09354a8d-68a9-4824-99b6-041ccafb697c",
   "metadata": {},
   "outputs": [
    {
     "data": {
      "text/plain": [
       "[5,\n",
       " 6,\n",
       " 7,\n",
       " 8,\n",
       " 9,\n",
       " 10,\n",
       " 11,\n",
       " 12,\n",
       " 13,\n",
       " 14,\n",
       " 15,\n",
       " 16,\n",
       " 17,\n",
       " 18,\n",
       " 19,\n",
       " 20,\n",
       " 21,\n",
       " 22,\n",
       " 23,\n",
       " 24,\n",
       " 25,\n",
       " 26]"
      ]
     },
     "execution_count": 9,
     "metadata": {},
     "output_type": "execute_result"
    }
   ],
   "source": [
    "myList4"
   ]
  },
  {
   "cell_type": "code",
   "execution_count": null,
   "id": "4a44c494-a765-46e8-9168-b7e9908bfda6",
   "metadata": {},
   "outputs": [],
   "source": []
  }
 ],
 "metadata": {
  "kernelspec": {
   "display_name": "Python 3 (ipykernel)",
   "language": "python",
   "name": "python3"
  },
  "language_info": {
   "codemirror_mode": {
    "name": "ipython",
    "version": 3
   },
   "file_extension": ".py",
   "mimetype": "text/x-python",
   "name": "python",
   "nbconvert_exporter": "python",
   "pygments_lexer": "ipython3",
   "version": "3.10.7"
  }
 },
 "nbformat": 4,
 "nbformat_minor": 5
}
