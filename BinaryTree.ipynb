{
 "cells": [
  {
   "cell_type": "code",
   "execution_count": 1,
   "id": "231741c5-aa67-4388-9923-c5e8dc8beb78",
   "metadata": {},
   "outputs": [],
   "source": [
    "class TreeNode:\n",
    "    def __init__ (self):\n",
    "        self.Data=\"empty\"\n",
    "        self.LeftPointer=0\n",
    "        self.RightPointer=0\n",
    "\n",
    "NullPointer=-1"
   ]
  },
  {
   "cell_type": "code",
   "execution_count": 2,
   "id": "47f2f877-b6c3-41f6-a264-81b3a59711a7",
   "metadata": {},
   "outputs": [],
   "source": [
    "def Initialize():\n",
    "    global RootPointer, FreePointer\n",
    "    RootPointer=NullPointer\n",
    "    FreePointer=0\n",
    "    Num=int(input(\"enter the number of items in the list:\"))\n",
    "    List=[TreeNode() for i in range(Num)]\n",
    "    for i in range (0,Num):\n",
    "        List[i].LeftPointer=i+1\n",
    "    List[i].LeftPointer=NullPointer\n",
    "    return List"
   ]
  },
  {
   "cell_type": "code",
   "execution_count": 3,
   "id": "0b588403-b8c4-403a-9855-bd7517d18d3e",
   "metadata": {},
   "outputs": [
    {
     "name": "stdin",
     "output_type": "stream",
     "text": [
      "enter the number of items in the list: 7\n"
     ]
    }
   ],
   "source": [
    "myList=Initialize()"
   ]
  },
  {
   "cell_type": "code",
   "execution_count": 4,
   "id": "67dfbe14-d709-45c8-99d6-f5605f9f5751",
   "metadata": {},
   "outputs": [],
   "source": [
    "def OutputBinaryTree(List):\n",
    "    global RootPointer, FreePointer\n",
    "    print(\"RootPointer:\",RootPointer)\n",
    "    print(\"FreePointer:\",FreePointer)\n",
    "    print(\"i data left right\")\n",
    "    for i in range (0,len(List)):\n",
    "        print(i,List[i].Data,List[i].LeftPointer,List[i].RightPointer) "
   ]
  },
  {
   "cell_type": "code",
   "execution_count": 5,
   "id": "4cc60150-727c-4d58-a878-3600cdea0e0a",
   "metadata": {},
   "outputs": [
    {
     "name": "stdout",
     "output_type": "stream",
     "text": [
      "RootPointer: -1\n",
      "FreePointer: 0\n",
      "i data left right\n",
      "0 empty 1 0\n",
      "1 empty 2 0\n",
      "2 empty 3 0\n",
      "3 empty 4 0\n",
      "4 empty 5 0\n",
      "5 empty 6 0\n",
      "6 empty -1 0\n"
     ]
    }
   ],
   "source": [
    "OutputBinaryTree(myList)"
   ]
  },
  {
   "cell_type": "code",
   "execution_count": 6,
   "id": "361603af-7f67-4bf7-bfff-cbdda1bdb508",
   "metadata": {},
   "outputs": [],
   "source": [
    "def Insert(NewItem,List):\n",
    "    global FreePointer, RootPointer\n",
    "    if FreePointer!=NullPointer:\n",
    "        #select the start of the free list be the place where the new item is going to be inserted \n",
    "        NewNodePointer=FreePointer\n",
    "        FreePointer=List[FreePointer].LeftPointer #set the new start of the free list\n",
    "        #initialize the NewNodePointer\n",
    "        List[NewNodePointer].Data=NewItem\n",
    "        List[NewNodePointer].LeftPointer=NullPointer\n",
    "        List[NewNodePointer].RightPointer=NullPointer\n",
    "        if RootPointer==NullPointer:\n",
    "            #if the tree is empty set the root of the tree to be the new item, left the L&R pointer to be null\n",
    "            RootPointer=NewNodePointer\n",
    "        else:\n",
    "            ThisNodePointer=RootPointer\n",
    "            #start a loop to find the position for the new item\n",
    "            while ThisNodePointer!=NullPointer:\n",
    "                PreviousNodePointer=ThisNodePointer #record the previous node\n",
    "                if List[ThisNodePointer].Data>NewItem: #smaller data are on the left\n",
    "                    TurnLeft=True\n",
    "                    ThisNodePointer=List[ThisNodePointer].LeftPointer\n",
    "                else: #bigger data are on the right\n",
    "                    TurnLeft=False\n",
    "                    ThisNodePointer=List[ThisNodePointer].RightPointer\n",
    "            if TurnLeft==True:\n",
    "                List[PreviousNodePointer].LeftPointer=NewNodePointer\n",
    "            else:\n",
    "                List[PreviousNodePointer].RightPointer=NewNodePointer\n",
    "    return List"
   ]
  },
  {
   "cell_type": "code",
   "execution_count": 7,
   "id": "52dfe57c-b121-4194-83f8-4bbd0ec2f455",
   "metadata": {},
   "outputs": [
    {
     "name": "stdout",
     "output_type": "stream",
     "text": [
      "RootPointer: 0\n",
      "FreePointer: 1\n",
      "i data left right\n",
      "0 c -1 -1\n",
      "1 empty 2 0\n",
      "2 empty 3 0\n",
      "3 empty 4 0\n",
      "4 empty 5 0\n",
      "5 empty 6 0\n",
      "6 empty -1 0\n"
     ]
    }
   ],
   "source": [
    "myList=Insert('c',myList)\n",
    "OutputBinaryTree(myList)"
   ]
  },
  {
   "cell_type": "code",
   "execution_count": 8,
   "id": "659de3f9-ff78-40d3-89ba-c4b2cf908c97",
   "metadata": {},
   "outputs": [
    {
     "name": "stdout",
     "output_type": "stream",
     "text": [
      "RootPointer: 0\n",
      "FreePointer: 2\n",
      "i data left right\n",
      "0 c 1 -1\n",
      "1 a -1 -1\n",
      "2 empty 3 0\n",
      "3 empty 4 0\n",
      "4 empty 5 0\n",
      "5 empty 6 0\n",
      "6 empty -1 0\n"
     ]
    }
   ],
   "source": [
    "myList=Insert('a',myList)\n",
    "OutputBinaryTree(myList)"
   ]
  },
  {
   "cell_type": "code",
   "execution_count": 9,
   "id": "29423e82-724c-445f-bd25-823eb23fa839",
   "metadata": {},
   "outputs": [
    {
     "name": "stdout",
     "output_type": "stream",
     "text": [
      "RootPointer: 0\n",
      "FreePointer: 3\n",
      "i data left right\n",
      "0 c 1 -1\n",
      "1 a -1 2\n",
      "2 b -1 -1\n",
      "3 empty 4 0\n",
      "4 empty 5 0\n",
      "5 empty 6 0\n",
      "6 empty -1 0\n"
     ]
    }
   ],
   "source": [
    "myList=Insert('b',myList)\n",
    "OutputBinaryTree(myList)"
   ]
  },
  {
   "cell_type": "code",
   "execution_count": 10,
   "id": "6fbfada3-af86-4a56-bdcf-e58e5df4c987",
   "metadata": {},
   "outputs": [],
   "source": [
    "def FindNode(Target,List):\n",
    "    ThisNode=RootPointer\n",
    "    while ThisNode!=NullPointer and List[ThisNode].Data!=Target:\n",
    "        if List[ThisNode].Data<Target:\n",
    "            ThisNode=List[ThisNode].RightPointer\n",
    "        else:\n",
    "            ThisNode=List[ThisNode].LeftPointer\n",
    "    return ThisNode"
   ]
  },
  {
   "cell_type": "code",
   "execution_count": null,
   "id": "3edf3468-5c87-4f3d-9280-d9ba9489bc13",
   "metadata": {},
   "outputs": [],
   "source": []
  }
 ],
 "metadata": {
  "kernelspec": {
   "display_name": "Python 3 (ipykernel)",
   "language": "python",
   "name": "python3"
  },
  "language_info": {
   "codemirror_mode": {
    "name": "ipython",
    "version": 3
   },
   "file_extension": ".py",
   "mimetype": "text/x-python",
   "name": "python",
   "nbconvert_exporter": "python",
   "pygments_lexer": "ipython3",
   "version": "3.10.7"
  }
 },
 "nbformat": 4,
 "nbformat_minor": 5
}
