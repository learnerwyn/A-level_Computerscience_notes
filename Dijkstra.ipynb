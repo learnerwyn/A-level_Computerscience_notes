{
 "cells": [
  {
   "cell_type": "code",
   "execution_count": 1,
   "id": "84259c93-1fec-4c05-ba7e-68579b2d0294",
   "metadata": {},
   "outputs": [],
   "source": [
    "import sys\n",
    "\n",
    "class Graph:\n",
    "    def __init__(self, num_nodes):\n",
    "        self.num_nodes = num_nodes\n",
    "        self.adj_matrix = [[0] * num_nodes for _ in range(num_nodes)]\n",
    "\n",
    "    def add_edge(self, u, v, weight):\n",
    "        self.adj_matrix[u][v] = weight\n",
    "        self.adj_matrix[v][u] = weight  # For undirected graph\n",
    "\n",
    "    def dijkstra(self, source):\n",
    "        distances = [sys.maxsize] * self.num_nodes #sys.maxsize=positivev infinity\n",
    "        distances[source] = 0\n",
    "        visited = set()\n",
    "        \n",
    "        while len(visited) < self.num_nodes:\n",
    "            # Find the node with the smallest distance\n",
    "            min_distance = sys.maxsize\n",
    "            min_node = -1\n",
    "            for node in range(self.num_nodes):\n",
    "                if node not in visited and distances[node] < min_distance:\n",
    "                    min_distance = distances[node]\n",
    "                    min_node = node\n",
    "\n",
    "            # Mark the current node as visited\n",
    "            visited.add(min_node)\n",
    "\n",
    "            # Update distances for the neighbors of the current node\n",
    "            for neighbor in range(self.num_nodes):\n",
    "                if self.adj_matrix[min_node][neighbor] > 0:\n",
    "                    new_distance = distances[min_node] + self.adj_matrix[min_node][neighbor]\n",
    "                    if new_distance < distances[neighbor]:\n",
    "                        distances[neighbor] = new_distance\n",
    "\n",
    "        return distances\n",
    "\n"
   ]
  },
  {
   "cell_type": "code",
   "execution_count": null,
   "id": "69a71d8f-eb1e-43ad-8e47-790ddf5a9971",
   "metadata": {},
   "outputs": [],
   "source": [
    "num_nodes = 5\n",
    "graph = Graph(num_nodes)\n",
    "graph.add_edge(0, 1, 2)\n",
    "graph.add_edge(0, 2, 4)\n",
    "graph.add_edge(1, 3, 1)\n",
    "graph.add_edge(2, 3, 3)\n",
    "graph.add_edge(3, 4, 5)\n",
    "\n",
    "source_node = 0\n",
    "shortest_distances = graph.dijkstra(source_node)\n",
    "print(\"Shortest distances from node\", source_node, \"to all other nodes:\", shortest_distances)\n"
   ]
  },
  {
   "cell_type": "markdown",
   "id": "37cc1e1f-fae3-4acb-9848-fc7ae6f1c5ef",
   "metadata": {},
   "source": [
    "reference:\n",
    "https://www.youtube.com/watch?v=EFg3u_E6eHU&pp=ygUWZGlqa3N0cmHigJlzIGFsZ29yaXRobQ%3D%3D"
   ]
  }
 ],
 "metadata": {
  "kernelspec": {
   "display_name": "Python 3 (ipykernel)",
   "language": "python",
   "name": "python3"
  },
  "language_info": {
   "codemirror_mode": {
    "name": "ipython",
    "version": 3
   },
   "file_extension": ".py",
   "mimetype": "text/x-python",
   "name": "python",
   "nbconvert_exporter": "python",
   "pygments_lexer": "ipython3",
   "version": "3.10.7"
  }
 },
 "nbformat": 4,
 "nbformat_minor": 5
}
