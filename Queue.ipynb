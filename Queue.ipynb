{
 "cells": [
  {
   "cell_type": "code",
   "execution_count": 1,
   "id": "5b00cccf-c490-4c75-9e6f-31fde1f094b3",
   "metadata": {},
   "outputs": [
    {
     "name": "stdin",
     "output_type": "stream",
     "text": [
      "enter the maximum size of the stack: 5\n"
     ]
    }
   ],
   "source": [
    "NullPointer=-1\n",
    "MaxQueueSize=int(input(\"enter the maximum size of the stack:\"))\n",
    "class QueueNode():\n",
    "    def __init__(self):\n",
    "        self.Data=\"empty\"\n",
    "        self.Pointer=NullPointer"
   ]
  },
  {
   "cell_type": "code",
   "execution_count": 2,
   "id": "d7857f59-d809-4f30-a99a-62a2748359fc",
   "metadata": {},
   "outputs": [],
   "source": [
    "def InitializeQueue():\n",
    "    global EndOfQueue,StartOfQueue,FreeListPointer\n",
    "    Queue=[QueueNode() for i in range(MaxQueueSize)]\n",
    "    EndOfQueue=NullPointer\n",
    "    StartOfQueue=NullPointer\n",
    "    FreeListPointer=0\n",
    "    for i in range(MaxQueueSize-1):\n",
    "        Queue[i].Pointer=i+1\n",
    "    Queue[i+1].Pointer=NullPointer\n",
    "    return Queue"
   ]
  },
  {
   "cell_type": "code",
   "execution_count": 3,
   "id": "ba938d89-2562-4772-9b2f-e9b0352d424e",
   "metadata": {},
   "outputs": [],
   "source": [
    "def OutputList(List):\n",
    "    global EndOfQueue,StartOfQueue,FreeListPointer\n",
    "    print(\"FreeListPointer:\",FreeListPointer)\n",
    "    print(\"StartOfQueue:\",StartOfQueue)\n",
    "    print(\"EndOfQueue:\",EndOfQueue)\n",
    "    print(\"queue start from index 0\")\n",
    "    print(\"i data ptr\")\n",
    "    for i in range (0,len(List)):\n",
    "        print(i,List[i].Data,List[i].Pointer) "
   ]
  },
  {
   "cell_type": "code",
   "execution_count": 4,
   "id": "93ab284c-11d4-409e-9c1e-142168e5b5b6",
   "metadata": {},
   "outputs": [
    {
     "name": "stdout",
     "output_type": "stream",
     "text": [
      "FreeListPointer: 0\n",
      "StartOfQueue: -1\n",
      "EndOfQueue: -1\n",
      "queue start from index 0\n",
      "i data ptr\n",
      "0 empty 1\n",
      "1 empty 2\n",
      "2 empty 3\n",
      "3 empty 4\n",
      "4 empty -1\n"
     ]
    }
   ],
   "source": [
    "Stack=InitializeQueue()\n",
    "OutputList(Stack)"
   ]
  },
  {
   "cell_type": "code",
   "execution_count": 5,
   "id": "464b634e-57fd-4cbe-8c97-60abeebbd23d",
   "metadata": {},
   "outputs": [],
   "source": [
    "def Enqueue(List,NewItem):\n",
    "    global EndOfQueue,StartOfQueue,FreeListPointer\n",
    "    if FreeListPointer!=NullPointer:\n",
    "        NewNodePointer=FreeListPointer\n",
    "        List[EndOfQueue].Pointer=NewNodePointer\n",
    "        List[NewNodePointer].Data=NewItem\n",
    "        if StartOfQueue==NullPointer:\n",
    "            StartOfQueue=NewNodePointer\n",
    "        EndOfQueue=NewNodePointer\n",
    "        FreeListPointer=List[FreeListPointer].Pointer\n",
    "        List[NewNodePointer].Pointer=NullPointer\n",
    "    else:\n",
    "        print(\"no free space in the list\")"
   ]
  },
  {
   "cell_type": "code",
   "execution_count": 6,
   "id": "a55c1341-d146-439d-9e9e-087419765844",
   "metadata": {},
   "outputs": [],
   "source": [
    "Enqueue(Stack,'a')"
   ]
  },
  {
   "cell_type": "code",
   "execution_count": 7,
   "id": "d9e84843-ebf3-4b32-b124-7ca510cfd960",
   "metadata": {},
   "outputs": [
    {
     "name": "stdout",
     "output_type": "stream",
     "text": [
      "FreeListPointer: 1\n",
      "StartOfQueue: 0\n",
      "EndOfQueue: 0\n",
      "queue start from index 0\n",
      "i data ptr\n",
      "0 a -1\n",
      "1 empty 2\n",
      "2 empty 3\n",
      "3 empty 4\n",
      "4 empty 0\n"
     ]
    }
   ],
   "source": [
    "OutputList(Stack)"
   ]
  },
  {
   "cell_type": "code",
   "execution_count": 8,
   "id": "824d5f89-06b1-4c71-8639-e15d5edeeb77",
   "metadata": {},
   "outputs": [
    {
     "name": "stdout",
     "output_type": "stream",
     "text": [
      "FreeListPointer: 2\n",
      "StartOfQueue: 0\n",
      "EndOfQueue: 1\n",
      "queue start from index 0\n",
      "i data ptr\n",
      "0 a 1\n",
      "1 adadsafsadsafdsafdsaf -1\n",
      "2 empty 3\n",
      "3 empty 4\n",
      "4 empty 0\n"
     ]
    }
   ],
   "source": [
    "Enqueue(Stack,'adadsafsadsafdsafdsaf')\n",
    "OutputList(Stack)"
   ]
  },
  {
   "cell_type": "code",
   "execution_count": 9,
   "id": "bd0c57ad-c651-4e6f-9dd8-ad6c9ee1560f",
   "metadata": {},
   "outputs": [],
   "source": [
    "def Dequeue(List):\n",
    "    global EndOfQueue,StartOfQueue,FreeListPointer\n",
    "    if StartOfQueue!=NullPointer:\n",
    "        ThisNodePointer=StartOfQueue\n",
    "        StartOfQueue=List[ThisNodePointer].Pointer\n",
    "        #adjust the free list\n",
    "        List[ThisNodePointer].Pointer=FreeListPointer\n",
    "        FreeListPointer=ThisNodePointer\n",
    "    else:\n",
    "        print(\"no data in the queue\")"
   ]
  },
  {
   "cell_type": "code",
   "execution_count": 10,
   "id": "e83c9695-01bd-4bb5-b033-e2b03d230f13",
   "metadata": {},
   "outputs": [
    {
     "name": "stdout",
     "output_type": "stream",
     "text": [
      "FreeListPointer: 0\n",
      "StartOfQueue: 1\n",
      "EndOfQueue: 1\n",
      "queue start from index 0\n",
      "i data ptr\n",
      "0 a 2\n",
      "1 adadsafsadsafdsafdsaf -1\n",
      "2 empty 3\n",
      "3 empty 4\n",
      "4 empty 0\n"
     ]
    }
   ],
   "source": [
    "Dequeue(Stack)\n",
    "OutputList(Stack)"
   ]
  },
  {
   "cell_type": "code",
   "execution_count": null,
   "id": "f18d8ba3-f2b0-458f-9eaf-d0419c85a12f",
   "metadata": {},
   "outputs": [],
   "source": []
  }
 ],
 "metadata": {
  "kernelspec": {
   "display_name": "Python 3 (ipykernel)",
   "language": "python",
   "name": "python3"
  },
  "language_info": {
   "codemirror_mode": {
    "name": "ipython",
    "version": 3
   },
   "file_extension": ".py",
   "mimetype": "text/x-python",
   "name": "python",
   "nbconvert_exporter": "python",
   "pygments_lexer": "ipython3",
   "version": "3.10.7"
  }
 },
 "nbformat": 4,
 "nbformat_minor": 5
}
