{
 "cells": [
  {
   "cell_type": "code",
   "execution_count": 1,
   "id": "2a3bb792-8076-44bb-82ab-9ef66fc69af6",
   "metadata": {},
   "outputs": [],
   "source": [
    "class ListNode:\n",
    "    def __init__(self):\n",
    "        self.Data=\"empty\"\n",
    "        self.Pointer=0\n",
    "\n",
    "NullPointer=-1"
   ]
  },
  {
   "cell_type": "code",
   "execution_count": 2,
   "id": "30b4a948-22b0-49ad-bfd8-d23cbfc221ea",
   "metadata": {},
   "outputs": [],
   "source": [
    "def Initialize():\n",
    "    global FreeListPointer\n",
    "    global StartPointer\n",
    "    NumOfNodes=int(input(\"input the number of nodes in the linked list:\"))\n",
    "    List=[ListNode() for i in range(NumOfNodes)]\n",
    "    StartPointer=NullPointer\n",
    "    FreeListPointer=0\n",
    "    for i in range(0,len(List)-1):\n",
    "        List[i].Pointer=i+1\n",
    "    List[len(List)-1].Pointer=NullPointer\n",
    "    return List"
   ]
  },
  {
   "cell_type": "code",
   "execution_count": 3,
   "id": "c69ec2f8-3980-43cf-a908-5f153a41aa54",
   "metadata": {},
   "outputs": [],
   "source": [
    "def OutputList(List):\n",
    "    print(\"FreeListPointer:\",FreeListPointer)\n",
    "    print(\"StartPointer:\",StartPointer)\n",
    "    print(\"i data ptr\")\n",
    "    for i in range (0,len(List)):\n",
    "        print(i,List[i].Data,List[i].Pointer)    "
   ]
  },
  {
   "cell_type": "code",
   "execution_count": 4,
   "id": "f8aa792a-b15e-4b1d-94e2-dfb643849b5c",
   "metadata": {
    "scrolled": true
   },
   "outputs": [
    {
     "name": "stdin",
     "output_type": "stream",
     "text": [
      "input the number of nodes in the linked list: 7\n"
     ]
    },
    {
     "name": "stdout",
     "output_type": "stream",
     "text": [
      "FreeListPointer: 0\n",
      "StartPointer: -1\n",
      "i data ptr\n",
      "0 empty 1\n",
      "1 empty 2\n",
      "2 empty 3\n",
      "3 empty 4\n",
      "4 empty 5\n",
      "5 empty 6\n",
      "6 empty -1\n"
     ]
    }
   ],
   "source": [
    "myList=Initialize()\n",
    "OutputList(myList)"
   ]
  },
  {
   "cell_type": "code",
   "execution_count": 5,
   "id": "2c836a69-852e-40c6-93f3-0a0324fa0853",
   "metadata": {},
   "outputs": [],
   "source": [
    "def Insert(List,NewItem):\n",
    "    global FreeListPointer, StartPointer\n",
    "    if FreeListPointer!=NullPointer:\n",
    "        #deal with data\n",
    "        NewNodePointer=FreeListPointer\n",
    "        List[NewNodePointer].Data=NewItem\n",
    "        FreeListPointer=List[FreeListPointer].Pointer\n",
    "        #deal with pointer\n",
    "        ThisNodePointer=StartPointer\n",
    "        PreviousNodePointer=NullPointer\n",
    "        while ThisNodePointer!=NullPointer and List[ThisNodePointer].Data<NewItem:#judge where the new item should be inserted in a sorted way\n",
    "            PreviousNodePointer=ThisNodePointer #record the previous node\n",
    "            ThisNodePointer=List[ThisNodePointer].Pointer\n",
    "        #insert at the start or not\n",
    "        if PreviousNodePointer==NullPointer: #when the new item has to be inserted in the beginning of the list\n",
    "            List[NewNodePointer].Pointer=StartPointer\n",
    "            StartPointer=NewNodePointer\n",
    "        else: #when the new item has to be inserted in the middle or the end of the list\n",
    "            List[NewNodePointer].Pointer=List[PreviousNodePointer].Pointer\n",
    "            List[PreviousNodePointer].Pointer=NewNodePointer\n",
    "    OutputList(List)\n",
    "    return List"
   ]
  },
  {
   "cell_type": "code",
   "execution_count": 6,
   "id": "dc3ffb64-6d63-4035-8695-aa7f73093fd5",
   "metadata": {},
   "outputs": [
    {
     "name": "stdout",
     "output_type": "stream",
     "text": [
      "FreeListPointer: 1\n",
      "StartPointer: 0\n",
      "i data ptr\n",
      "0 a -1\n",
      "1 empty 2\n",
      "2 empty 3\n",
      "3 empty 4\n",
      "4 empty 5\n",
      "5 empty 6\n",
      "6 empty -1\n"
     ]
    },
    {
     "data": {
      "text/plain": [
       "[<__main__.ListNode at 0x2b636363220>,\n",
       " <__main__.ListNode at 0x2b6363835e0>,\n",
       " <__main__.ListNode at 0x2b636383340>,\n",
       " <__main__.ListNode at 0x2b636380d00>,\n",
       " <__main__.ListNode at 0x2b6363839d0>,\n",
       " <__main__.ListNode at 0x2b636383e80>,\n",
       " <__main__.ListNode at 0x2b636383a00>]"
      ]
     },
     "execution_count": 6,
     "metadata": {},
     "output_type": "execute_result"
    }
   ],
   "source": [
    "Insert(myList,'a')"
   ]
  },
  {
   "cell_type": "code",
   "execution_count": 7,
   "id": "a1207ca9-a00b-443e-aed0-6cbe7bd4b2ea",
   "metadata": {},
   "outputs": [
    {
     "name": "stdout",
     "output_type": "stream",
     "text": [
      "FreeListPointer: 2\n",
      "StartPointer: 0\n",
      "i data ptr\n",
      "0 a 1\n",
      "1 e -1\n",
      "2 empty 3\n",
      "3 empty 4\n",
      "4 empty 5\n",
      "5 empty 6\n",
      "6 empty -1\n"
     ]
    },
    {
     "data": {
      "text/plain": [
       "[<__main__.ListNode at 0x2b636363220>,\n",
       " <__main__.ListNode at 0x2b6363835e0>,\n",
       " <__main__.ListNode at 0x2b636383340>,\n",
       " <__main__.ListNode at 0x2b636380d00>,\n",
       " <__main__.ListNode at 0x2b6363839d0>,\n",
       " <__main__.ListNode at 0x2b636383e80>,\n",
       " <__main__.ListNode at 0x2b636383a00>]"
      ]
     },
     "execution_count": 7,
     "metadata": {},
     "output_type": "execute_result"
    }
   ],
   "source": [
    "Insert(myList,'e')"
   ]
  },
  {
   "cell_type": "code",
   "execution_count": 8,
   "id": "84b6b106-6435-4f65-a57c-4e840a7e94ac",
   "metadata": {},
   "outputs": [
    {
     "name": "stdout",
     "output_type": "stream",
     "text": [
      "FreeListPointer: 3\n",
      "StartPointer: 0\n",
      "i data ptr\n",
      "0 a 2\n",
      "1 e -1\n",
      "2 c 1\n",
      "3 empty 4\n",
      "4 empty 5\n",
      "5 empty 6\n",
      "6 empty -1\n"
     ]
    },
    {
     "data": {
      "text/plain": [
       "[<__main__.ListNode at 0x2b636363220>,\n",
       " <__main__.ListNode at 0x2b6363835e0>,\n",
       " <__main__.ListNode at 0x2b636383340>,\n",
       " <__main__.ListNode at 0x2b636380d00>,\n",
       " <__main__.ListNode at 0x2b6363839d0>,\n",
       " <__main__.ListNode at 0x2b636383e80>,\n",
       " <__main__.ListNode at 0x2b636383a00>]"
      ]
     },
     "execution_count": 8,
     "metadata": {},
     "output_type": "execute_result"
    }
   ],
   "source": [
    "Insert(myList,'c')"
   ]
  },
  {
   "cell_type": "code",
   "execution_count": 9,
   "id": "9c50d5de-afe0-411d-a3ab-6178d93f7d62",
   "metadata": {},
   "outputs": [],
   "source": [
    "def Delete(List,DataItem):\n",
    "    global FreeListPointer, StartPointer\n",
    "    ThisNodePointer=StartPointer\n",
    "    while ThisNodePointer!=NullPointer and List[ThisNodePointer].Data!=DataItem:#loop through to find the item to be deleted\n",
    "        PreviousNodePointer=ThisNodePointer\n",
    "        ThisNodePointer=List[ThisNodePointer].Pointer\n",
    "    if ThisNodePointer!=NullPointer: \n",
    "        if ThisNodePointer==StartPointer:\n",
    "            StartPointer=List[StartPointer].Pointer\n",
    "        else:\n",
    "            List[PreviousNodePointer].Pointer=List[ThisNodePointer].Pointer\n",
    "        #deal with free list\n",
    "        List[ThisNodePointer].Pointer=FreeListPointer #let the pointer points to the current free list\n",
    "        FreeListPointer=ThisNodePointer #add ThisNodePointer to the beginning of the current free list\n",
    "    #else, if ThisNodePointer==NullPointer, the item to be deleted is not in the current list\n",
    "    OutputList(List)\n",
    "    return List"
   ]
  },
  {
   "cell_type": "code",
   "execution_count": 10,
   "id": "bfa2d6e9-6472-45b8-85ae-46e9c8b89cd3",
   "metadata": {},
   "outputs": [
    {
     "name": "stdout",
     "output_type": "stream",
     "text": [
      "FreeListPointer: 0\n",
      "StartPointer: 2\n",
      "i data ptr\n",
      "0 a 3\n",
      "1 e -1\n",
      "2 c 1\n",
      "3 empty 4\n",
      "4 empty 5\n",
      "5 empty 6\n",
      "6 empty -1\n"
     ]
    },
    {
     "data": {
      "text/plain": [
       "[<__main__.ListNode at 0x2b636363220>,\n",
       " <__main__.ListNode at 0x2b6363835e0>,\n",
       " <__main__.ListNode at 0x2b636383340>,\n",
       " <__main__.ListNode at 0x2b636380d00>,\n",
       " <__main__.ListNode at 0x2b6363839d0>,\n",
       " <__main__.ListNode at 0x2b636383e80>,\n",
       " <__main__.ListNode at 0x2b636383a00>]"
      ]
     },
     "execution_count": 10,
     "metadata": {},
     "output_type": "execute_result"
    }
   ],
   "source": [
    "Delete(myList,'a')"
   ]
  },
  {
   "cell_type": "code",
   "execution_count": 11,
   "id": "b5df6453-f566-4d93-aab9-fb0b5fc97185",
   "metadata": {},
   "outputs": [],
   "source": [
    "def FindNode(DataItem,List):\n",
    "    global FreeListPointer, StartPointer\n",
    "    CurrentNodePointer=StartPointer\n",
    "    while CurrentNodePointer!=NullPointer and List[CurrentNodePointer].Data!=DataItem:\n",
    "        CurrentNodePointer=List[CurrentNodePointer].Pointer\n",
    "    return CurrentNodePointer"
   ]
  },
  {
   "cell_type": "code",
   "execution_count": 13,
   "id": "8ccf94b7-8b14-4959-b6a2-e0df75b561c9",
   "metadata": {},
   "outputs": [
    {
     "data": {
      "text/plain": [
       "2"
      ]
     },
     "execution_count": 13,
     "metadata": {},
     "output_type": "execute_result"
    }
   ],
   "source": [
    "FindNode('c',myList)"
   ]
  },
  {
   "cell_type": "code",
   "execution_count": null,
   "id": "52e4fa2b-561a-4169-8507-d9b269889a1f",
   "metadata": {},
   "outputs": [],
   "source": []
  }
 ],
 "metadata": {
  "kernelspec": {
   "display_name": "Python 3 (ipykernel)",
   "language": "python",
   "name": "python3"
  },
  "language_info": {
   "codemirror_mode": {
    "name": "ipython",
    "version": 3
   },
   "file_extension": ".py",
   "mimetype": "text/x-python",
   "name": "python",
   "nbconvert_exporter": "python",
   "pygments_lexer": "ipython3",
   "version": "3.10.7"
  }
 },
 "nbformat": 4,
 "nbformat_minor": 5
}
